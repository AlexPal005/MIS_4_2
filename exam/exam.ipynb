{
 "cells": [
  {
   "cell_type": "code",
   "execution_count": 3,
   "id": "f767b4e5",
   "metadata": {},
   "outputs": [],
   "source": [
    "import pandas as pd\n",
    "data = pd.read_csv(\"Expanded_data_with_more_features.csv\")"
   ]
  },
  {
   "cell_type": "code",
   "execution_count": 4,
   "id": "6bc03d76",
   "metadata": {},
   "outputs": [
    {
     "data": {
      "text/html": [
       "<div>\n",
       "<style scoped>\n",
       "    .dataframe tbody tr th:only-of-type {\n",
       "        vertical-align: middle;\n",
       "    }\n",
       "\n",
       "    .dataframe tbody tr th {\n",
       "        vertical-align: top;\n",
       "    }\n",
       "\n",
       "    .dataframe thead th {\n",
       "        text-align: right;\n",
       "    }\n",
       "</style>\n",
       "<table border=\"1\" class=\"dataframe\">\n",
       "  <thead>\n",
       "    <tr style=\"text-align: right;\">\n",
       "      <th></th>\n",
       "      <th>Unnamed: 0</th>\n",
       "      <th>Gender</th>\n",
       "      <th>EthnicGroup</th>\n",
       "      <th>ParentEduc</th>\n",
       "      <th>LunchType</th>\n",
       "      <th>TestPrep</th>\n",
       "      <th>ParentMaritalStatus</th>\n",
       "      <th>PracticeSport</th>\n",
       "      <th>IsFirstChild</th>\n",
       "      <th>NrSiblings</th>\n",
       "      <th>TransportMeans</th>\n",
       "      <th>WklyStudyHours</th>\n",
       "      <th>MathScore</th>\n",
       "      <th>ReadingScore</th>\n",
       "      <th>WritingScore</th>\n",
       "    </tr>\n",
       "  </thead>\n",
       "  <tbody>\n",
       "    <tr>\n",
       "      <th>0</th>\n",
       "      <td>0</td>\n",
       "      <td>female</td>\n",
       "      <td>NaN</td>\n",
       "      <td>bachelor's degree</td>\n",
       "      <td>standard</td>\n",
       "      <td>none</td>\n",
       "      <td>married</td>\n",
       "      <td>regularly</td>\n",
       "      <td>yes</td>\n",
       "      <td>3.0</td>\n",
       "      <td>school_bus</td>\n",
       "      <td>&lt; 5</td>\n",
       "      <td>71</td>\n",
       "      <td>71</td>\n",
       "      <td>74</td>\n",
       "    </tr>\n",
       "    <tr>\n",
       "      <th>1</th>\n",
       "      <td>1</td>\n",
       "      <td>female</td>\n",
       "      <td>group C</td>\n",
       "      <td>some college</td>\n",
       "      <td>standard</td>\n",
       "      <td>NaN</td>\n",
       "      <td>married</td>\n",
       "      <td>sometimes</td>\n",
       "      <td>yes</td>\n",
       "      <td>0.0</td>\n",
       "      <td>NaN</td>\n",
       "      <td>5 - 10</td>\n",
       "      <td>69</td>\n",
       "      <td>90</td>\n",
       "      <td>88</td>\n",
       "    </tr>\n",
       "    <tr>\n",
       "      <th>2</th>\n",
       "      <td>2</td>\n",
       "      <td>female</td>\n",
       "      <td>group B</td>\n",
       "      <td>master's degree</td>\n",
       "      <td>standard</td>\n",
       "      <td>none</td>\n",
       "      <td>single</td>\n",
       "      <td>sometimes</td>\n",
       "      <td>yes</td>\n",
       "      <td>4.0</td>\n",
       "      <td>school_bus</td>\n",
       "      <td>&lt; 5</td>\n",
       "      <td>87</td>\n",
       "      <td>93</td>\n",
       "      <td>91</td>\n",
       "    </tr>\n",
       "    <tr>\n",
       "      <th>3</th>\n",
       "      <td>3</td>\n",
       "      <td>male</td>\n",
       "      <td>group A</td>\n",
       "      <td>associate's degree</td>\n",
       "      <td>free/reduced</td>\n",
       "      <td>none</td>\n",
       "      <td>married</td>\n",
       "      <td>never</td>\n",
       "      <td>no</td>\n",
       "      <td>1.0</td>\n",
       "      <td>NaN</td>\n",
       "      <td>5 - 10</td>\n",
       "      <td>45</td>\n",
       "      <td>56</td>\n",
       "      <td>42</td>\n",
       "    </tr>\n",
       "    <tr>\n",
       "      <th>4</th>\n",
       "      <td>4</td>\n",
       "      <td>male</td>\n",
       "      <td>group C</td>\n",
       "      <td>some college</td>\n",
       "      <td>standard</td>\n",
       "      <td>none</td>\n",
       "      <td>married</td>\n",
       "      <td>sometimes</td>\n",
       "      <td>yes</td>\n",
       "      <td>0.0</td>\n",
       "      <td>school_bus</td>\n",
       "      <td>5 - 10</td>\n",
       "      <td>76</td>\n",
       "      <td>78</td>\n",
       "      <td>75</td>\n",
       "    </tr>\n",
       "  </tbody>\n",
       "</table>\n",
       "</div>"
      ],
      "text/plain": [
       "   Unnamed: 0  Gender EthnicGroup          ParentEduc     LunchType TestPrep  \\\n",
       "0           0  female         NaN   bachelor's degree      standard     none   \n",
       "1           1  female     group C        some college      standard      NaN   \n",
       "2           2  female     group B     master's degree      standard     none   \n",
       "3           3    male     group A  associate's degree  free/reduced     none   \n",
       "4           4    male     group C        some college      standard     none   \n",
       "\n",
       "  ParentMaritalStatus PracticeSport IsFirstChild  NrSiblings TransportMeans  \\\n",
       "0             married     regularly          yes         3.0     school_bus   \n",
       "1             married     sometimes          yes         0.0            NaN   \n",
       "2              single     sometimes          yes         4.0     school_bus   \n",
       "3             married         never           no         1.0            NaN   \n",
       "4             married     sometimes          yes         0.0     school_bus   \n",
       "\n",
       "  WklyStudyHours  MathScore  ReadingScore  WritingScore  \n",
       "0            < 5         71            71            74  \n",
       "1         5 - 10         69            90            88  \n",
       "2            < 5         87            93            91  \n",
       "3         5 - 10         45            56            42  \n",
       "4         5 - 10         76            78            75  "
      ]
     },
     "execution_count": 4,
     "metadata": {},
     "output_type": "execute_result"
    }
   ],
   "source": [
    "data.head()"
   ]
  },
  {
   "cell_type": "markdown",
   "id": "eb869083",
   "metadata": {},
   "source": [
    "1. Скільки студентів і студенток у наборі даних?"
   ]
  },
  {
   "cell_type": "code",
   "execution_count": 5,
   "id": "ae4483c3",
   "metadata": {},
   "outputs": [
    {
     "name": "stdout",
     "output_type": "stream",
     "text": [
      "Кількість студентів: 15217\n",
      "Кількість студенток: 15424\n"
     ]
    }
   ],
   "source": [
    "male_count = (data[\"Gender\"] == \"male\").sum()\n",
    "female_count = (data[\"Gender\"] == \"female\").sum()\n",
    "\n",
    "print(\"Кількість студентів:\", male_count)\n",
    "print(\"Кількість студенток:\", female_count)"
   ]
  },
  {
   "cell_type": "markdown",
   "id": "45a4ad64",
   "metadata": {},
   "source": [
    " 2. Який відсоток студентів чоловічої статі в наборі даних?"
   ]
  },
  {
   "cell_type": "code",
   "execution_count": 7,
   "id": "a0f7ff4c",
   "metadata": {},
   "outputs": [
    {
     "name": "stdout",
     "output_type": "stream",
     "text": [
      "Відсоток студентів чоловічої статі: 49.6622172905584\n"
     ]
    }
   ],
   "source": [
    "total_students = len(data)\n",
    "\n",
    "male_students = (data[\"Gender\"] == \"male\").sum()\n",
    "\n",
    "male_percentage = (male_students / total_students) * 100\n",
    "\n",
    "print(\"Відсоток студентів чоловічої статі:\", male_percentage)"
   ]
  },
  {
   "cell_type": "markdown",
   "id": "2338e611",
   "metadata": {},
   "source": [
    "   3. Який відсоток студенток у наборі даних?"
   ]
  },
  {
   "cell_type": "code",
   "execution_count": 8,
   "id": "08b262ac",
   "metadata": {},
   "outputs": [
    {
     "name": "stdout",
     "output_type": "stream",
     "text": [
      "Відсоток студенток: 50.337782709441605\n"
     ]
    }
   ],
   "source": [
    "female_students = (data[\"Gender\"] == \"female\").sum()\n",
    "\n",
    "female_percentage = (female_students / total_students) * 100\n",
    "\n",
    "print(\"Відсоток студенток:\", female_percentage)"
   ]
  },
  {
   "cell_type": "markdown",
   "id": "5907dcc0",
   "metadata": {},
   "source": [
    " 4. Яка етнічна група має найвищий середній бал з математики?"
   ]
  },
  {
   "cell_type": "code",
   "execution_count": 9,
   "id": "e1bc4698",
   "metadata": {},
   "outputs": [
    {
     "name": "stdout",
     "output_type": "stream",
     "text": [
      "Етнічна група з найвищим середнім балом з математики: group E\n"
     ]
    }
   ],
   "source": [
    "math_scores_by_ethnicity = data.groupby(\"EthnicGroup\")[\"MathScore\"].mean()\n",
    "ethnicity_highest_math_score = math_scores_by_ethnicity.idxmax()\n",
    "\n",
    "print(\"Етнічна група з найвищим середнім балом з математики:\", ethnicity_highest_math_score)"
   ]
  },
  {
   "cell_type": "markdown",
   "id": "2980522a",
   "metadata": {},
   "source": [
    " 5. Яка етнічна група має найвищий середній бал читання?"
   ]
  },
  {
   "cell_type": "code",
   "execution_count": 10,
   "id": "7fdd867f",
   "metadata": {},
   "outputs": [
    {
     "name": "stdout",
     "output_type": "stream",
     "text": [
      "Етнічна група з найвищим середнім балом з читання: group E\n"
     ]
    }
   ],
   "source": [
    "reading_scores_by_ethnicity = data.groupby(\"EthnicGroup\")[\"ReadingScore\"].mean()\n",
    "ethnicity_highest_reading_score = reading_scores_by_ethnicity.idxmax()\n",
    "\n",
    "print(\"Етнічна група з найвищим середнім балом з читання:\", ethnicity_highest_reading_score)"
   ]
  },
  {
   "cell_type": "markdown",
   "id": "fb4da5a1",
   "metadata": {},
   "source": [
    "  6. Яка етнічна група має найвищий середній бал з письма?"
   ]
  },
  {
   "cell_type": "code",
   "execution_count": 11,
   "id": "435d13dc",
   "metadata": {},
   "outputs": [
    {
     "name": "stdout",
     "output_type": "stream",
     "text": [
      "Етнічна група з найвищим середнім балом з письма: group E\n"
     ]
    }
   ],
   "source": [
    "writing_scores_by_ethnicity = data.groupby(\"EthnicGroup\")[\"WritingScore\"].mean()\n",
    "ethnicity_highest_writing_score = writing_scores_by_ethnicity.idxmax()\n",
    "\n",
    "print(\"Етнічна група з найвищим середнім балом з письма:\", ethnicity_highest_writing_score)"
   ]
  },
  {
   "cell_type": "markdown",
   "id": "7d956722",
   "metadata": {},
   "source": [
    "     7. Який середній бал з математики для студентів, які закінчили курс підготовки до тесту?"
   ]
  },
  {
   "cell_type": "code",
   "execution_count": 12,
   "id": "2692ecd0",
   "metadata": {},
   "outputs": [
    {
     "name": "stdout",
     "output_type": "stream",
     "text": [
      "Середній бал з математики для студентів, які закінчили курс підготовки до тесту: 69.5466599698644\n"
     ]
    }
   ],
   "source": [
    "prepared_students = data[data[\"TestPrep\"] == \"completed\"]\n",
    "average_math_score_prep = prepared_students[\"MathScore\"].mean()\n",
    "\n",
    "print(\"Середній бал з математики для студентів, які закінчили курс підготовки до тесту:\", average_math_score_prep)"
   ]
  },
  {
   "cell_type": "markdown",
   "id": "e4434696",
   "metadata": {},
   "source": [
    "  8. Який середній бал з читання для студентів, які пройшли курс підготовки до тесту?"
   ]
  },
  {
   "cell_type": "code",
   "execution_count": 17,
   "id": "26e10e4b",
   "metadata": {},
   "outputs": [
    {
     "name": "stdout",
     "output_type": "stream",
     "text": [
      "Середній бал з читання для студентів, які пройшли курс підготовки до тесту: 73.73299849321948\n"
     ]
    }
   ],
   "source": [
    "average_reading_score_prep = prepared_students[\"ReadingScore\"].mean()\n",
    "\n",
    "print(\"Середній бал з читання для студентів, які пройшли курс підготовки до тесту:\", average_reading_score_prep)"
   ]
  },
  {
   "cell_type": "markdown",
   "id": "d579e379",
   "metadata": {},
   "source": [
    " 9. Який середній бал для студентів, які закінчили курс підготовки до тесту?\n"
   ]
  },
  {
   "cell_type": "code",
   "execution_count": 16,
   "id": "832557a9",
   "metadata": {},
   "outputs": [
    {
     "name": "stdout",
     "output_type": "stream",
     "text": [
      "Середній бал для студентів, які закінчили курс підготовки до тесту: 72.66097438473129\n"
     ]
    }
   ],
   "source": [
    "average_score_prep = prepared_students[[\"MathScore\", \"ReadingScore\", \"WritingScore\"]].mean(axis=1)\n",
    "\n",
    "print(\"Середній бал для студентів, які закінчили курс підготовки до тесту:\", average_score_prep.mean())"
   ]
  },
  {
   "cell_type": "markdown",
   "id": "06063cd7",
   "metadata": {},
   "source": [
    "10. Скільки студентів мають одружених батьків?"
   ]
  },
  {
   "cell_type": "code",
   "execution_count": 18,
   "id": "ff9d2a2e",
   "metadata": {},
   "outputs": [
    {
     "name": "stdout",
     "output_type": "stream",
     "text": [
      "Кількість студентів, які мають одружених батьків: 16844\n"
     ]
    }
   ],
   "source": [
    "married_parents_students = data[data[\"ParentMaritalStatus\"] == \"married\"]\n",
    "\n",
    "married_parents_count = len(married_parents_students)\n",
    "\n",
    "print(\"Кількість студентів, які мають одружених батьків:\", married_parents_count)"
   ]
  },
  {
   "cell_type": "markdown",
   "id": "c2d2add0",
   "metadata": {},
   "source": [
    "11. Скільки студентів мають батьків-одинаків?\n"
   ]
  },
  {
   "cell_type": "code",
   "execution_count": 22,
   "id": "09db3478",
   "metadata": {},
   "outputs": [
    {
     "name": "stdout",
     "output_type": "stream",
     "text": [
      "Кількість студентів, у яких є тільки один з батьків: 1190\n"
     ]
    }
   ],
   "source": [
    "single_parent_students = data[data[\"ParentMaritalStatus\"].isna()]\n",
    "single_parent_count = len(single_parent_students)\n",
    "\n",
    "print(\"Кількість студентів, у яких є тільки один з батьків:\", single_parent_count)"
   ]
  },
  {
   "cell_type": "markdown",
   "id": "6200353b",
   "metadata": {},
   "source": [
    "12. Чи студенти, які регулярно займаються спортом, мають вищі середні результати з математики, ніж ті, хто ніколи не       займається спортом?"
   ]
  },
  {
   "cell_type": "code",
   "execution_count": 23,
   "id": "121cf593",
   "metadata": {},
   "outputs": [
    {
     "name": "stdout",
     "output_type": "stream",
     "text": [
      "Середній бал з математики для студентів, які регулярно займаються спортом: 67.83915500787548\n",
      "Середній бал з математики для студентів, які ніколи не займаються спортом: 64.17107892107892\n"
     ]
    }
   ],
   "source": [
    "average_math_scores_by_sport = data.groupby(\"PracticeSport\")[\"MathScore\"].mean()\n",
    "\n",
    "print(\"Середній бал з математики для студентів, які регулярно займаються спортом:\", average_math_scores_by_sport[\"regularly\"])\n",
    "print(\"Середній бал з математики для студентів, які ніколи не займаються спортом:\", average_math_scores_by_sport[\"never\"])"
   ]
  },
  {
   "cell_type": "markdown",
   "id": "a855beff",
   "metadata": {},
   "source": [
    "13. Чи студенти, які регулярно займаються спортом, мають вищі середні результати читання, ніж ті, хто ніколи не займається спортом?"
   ]
  },
  {
   "cell_type": "code",
   "execution_count": 25,
   "id": "b588917c",
   "metadata": {},
   "outputs": [
    {
     "name": "stdout",
     "output_type": "stream",
     "text": [
      "Середній бал з читання для студентів, які регулярно займаються спортом: 69.94301862318169\n",
      "Середній бал з читання для студентів, які ніколи не займаються спортом: 68.33766233766234\n"
     ]
    }
   ],
   "source": [
    "average_reading_scores_by_sport = data.groupby(\"PracticeSport\")[\"ReadingScore\"].mean()\n",
    "\n",
    "print(\"Середній бал з читання для студентів, які регулярно займаються спортом:\", average_reading_scores_by_sport[\"regularly\"])\n",
    "print(\"Середній бал з читання для студентів, які ніколи не займаються спортом:\", average_reading_scores_by_sport[\"never\"])\n"
   ]
  },
  {
   "cell_type": "markdown",
   "id": "c313eb47",
   "metadata": {},
   "source": [
    " 14. Скільки учнів користується шкільним автобусом, щоб дістатися до школи?"
   ]
  },
  {
   "cell_type": "code",
   "execution_count": 27,
   "id": "6165df66",
   "metadata": {},
   "outputs": [
    {
     "name": "stdout",
     "output_type": "stream",
     "text": [
      "Кількість учнів, які користуються шкільним автобусом: 16145\n"
     ]
    }
   ],
   "source": [
    "bus_students = data[data[\"TransportMeans\"] == \"school_bus\"]\n",
    "\n",
    "bus_students_count = len(bus_students)\n",
    "\n",
    "print(\"Кількість учнів, які користуються шкільним автобусом:\", bus_students_count)\n"
   ]
  },
  {
   "cell_type": "markdown",
   "id": "eaf6c150",
   "metadata": {},
   "source": [
    "  15. Скільки учнів користується приватним транспортом, щоб дістатися до школи?\n"
   ]
  },
  {
   "cell_type": "code",
   "execution_count": 33,
   "id": "962088ea",
   "metadata": {},
   "outputs": [
    {
     "name": "stdout",
     "output_type": "stream",
     "text": [
      "Кількість учнів, які користуються приватним транспортом: 14496\n"
     ]
    }
   ],
   "source": [
    "private_transport_students_count = data[data[\"TransportMeans\"] != \"school_bus\"].shape[0]\n",
    "\n",
    "print(\"Кількість учнів, які користуються приватним транспортом:\", private_transport_students_count)"
   ]
  },
  {
   "cell_type": "markdown",
   "id": "e9a553fb",
   "metadata": {},
   "source": [
    "Задача класифікації 5 балів\n",
    "   Передбачте, чи завершив студент курс підготовки до іспиту, на основі його демографічних та академічних даних."
   ]
  },
  {
   "cell_type": "code",
   "execution_count": 41,
   "id": "185856a8",
   "metadata": {},
   "outputs": [
    {
     "name": "stdout",
     "output_type": "stream",
     "text": [
      "Accuracy: 0.736404833836858\n"
     ]
    }
   ],
   "source": [
    "from sklearn.model_selection import train_test_split\n",
    "from sklearn.preprocessing import LabelEncoder\n",
    "from sklearn.ensemble import RandomForestClassifier\n",
    "from sklearn.metrics import accuracy_score\n",
    "\n",
    "data.dropna(inplace=True)\n",
    "\n",
    "label_encoders = {}\n",
    "for column in data.select_dtypes(include=['object']).columns:\n",
    "    label_encoders[column] = LabelEncoder()\n",
    "    data[column] = label_encoders[column].fit_transform(data[column])\n",
    "\n",
    "X = data.drop('TestPrep', axis=1)\n",
    "y = data['TestPrep']\n",
    "X_train, X_test, y_train, y_test = train_test_split(X, y, test_size=0.2, random_state=42)\n",
    "\n",
    "model = RandomForestClassifier(random_state=42)\n",
    "model.fit(X_train, y_train)\n",
    "\n",
    "y_pred = model.predict(X_test)\n",
    "\n",
    "accuracy = accuracy_score(y_test, y_pred)\n",
    "print(\"Accuracy:\", accuracy)"
   ]
  },
  {
   "cell_type": "code",
   "execution_count": null,
   "id": "3f758082",
   "metadata": {},
   "outputs": [],
   "source": []
  }
 ],
 "metadata": {
  "kernelspec": {
   "display_name": "Python 3 (ipykernel)",
   "language": "python",
   "name": "python3"
  },
  "language_info": {
   "codemirror_mode": {
    "name": "ipython",
    "version": 3
   },
   "file_extension": ".py",
   "mimetype": "text/x-python",
   "name": "python",
   "nbconvert_exporter": "python",
   "pygments_lexer": "ipython3",
   "version": "3.7.16"
  }
 },
 "nbformat": 4,
 "nbformat_minor": 5
}
