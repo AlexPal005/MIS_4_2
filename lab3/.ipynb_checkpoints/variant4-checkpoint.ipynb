{
 "cells": [
  {
   "cell_type": "code",
   "execution_count": 2,
   "id": "010fe012",
   "metadata": {},
   "outputs": [],
   "source": [
    "import pandas as pd\n",
    "data = pd.read_csv(\"NationalNames.csv\")"
   ]
  },
  {
   "cell_type": "markdown",
   "id": "d5276688",
   "metadata": {},
   "source": [
    "Варіант 4\n",
    "1. Виведіть перші 8 рядків набору даних.\n",
    "\n",
    "1, 3, 6, 7, 8, 12, 13, 14, 15, 16, 17, 19, 20, 22,\n",
    "\n",
    "24, 25, 26, 27"
   ]
  },
  {
   "cell_type": "code",
   "execution_count": 7,
   "id": "ee7e1afb",
   "metadata": {},
   "outputs": [
    {
     "data": {
      "text/html": [
       "<div>\n",
       "<style scoped>\n",
       "    .dataframe tbody tr th:only-of-type {\n",
       "        vertical-align: middle;\n",
       "    }\n",
       "\n",
       "    .dataframe tbody tr th {\n",
       "        vertical-align: top;\n",
       "    }\n",
       "\n",
       "    .dataframe thead th {\n",
       "        text-align: right;\n",
       "    }\n",
       "</style>\n",
       "<table border=\"1\" class=\"dataframe\">\n",
       "  <thead>\n",
       "    <tr style=\"text-align: right;\">\n",
       "      <th></th>\n",
       "      <th>Id</th>\n",
       "      <th>Name</th>\n",
       "      <th>Year</th>\n",
       "      <th>Gender</th>\n",
       "      <th>Count</th>\n",
       "    </tr>\n",
       "  </thead>\n",
       "  <tbody>\n",
       "    <tr>\n",
       "      <th>0</th>\n",
       "      <td>1</td>\n",
       "      <td>Mary</td>\n",
       "      <td>1880</td>\n",
       "      <td>F</td>\n",
       "      <td>7065</td>\n",
       "    </tr>\n",
       "    <tr>\n",
       "      <th>1</th>\n",
       "      <td>2</td>\n",
       "      <td>Anna</td>\n",
       "      <td>1880</td>\n",
       "      <td>F</td>\n",
       "      <td>2604</td>\n",
       "    </tr>\n",
       "    <tr>\n",
       "      <th>2</th>\n",
       "      <td>3</td>\n",
       "      <td>Emma</td>\n",
       "      <td>1880</td>\n",
       "      <td>F</td>\n",
       "      <td>2003</td>\n",
       "    </tr>\n",
       "    <tr>\n",
       "      <th>3</th>\n",
       "      <td>4</td>\n",
       "      <td>Elizabeth</td>\n",
       "      <td>1880</td>\n",
       "      <td>F</td>\n",
       "      <td>1939</td>\n",
       "    </tr>\n",
       "    <tr>\n",
       "      <th>4</th>\n",
       "      <td>5</td>\n",
       "      <td>Minnie</td>\n",
       "      <td>1880</td>\n",
       "      <td>F</td>\n",
       "      <td>1746</td>\n",
       "    </tr>\n",
       "    <tr>\n",
       "      <th>5</th>\n",
       "      <td>6</td>\n",
       "      <td>Margaret</td>\n",
       "      <td>1880</td>\n",
       "      <td>F</td>\n",
       "      <td>1578</td>\n",
       "    </tr>\n",
       "    <tr>\n",
       "      <th>6</th>\n",
       "      <td>7</td>\n",
       "      <td>Ida</td>\n",
       "      <td>1880</td>\n",
       "      <td>F</td>\n",
       "      <td>1472</td>\n",
       "    </tr>\n",
       "    <tr>\n",
       "      <th>7</th>\n",
       "      <td>8</td>\n",
       "      <td>Alice</td>\n",
       "      <td>1880</td>\n",
       "      <td>F</td>\n",
       "      <td>1414</td>\n",
       "    </tr>\n",
       "  </tbody>\n",
       "</table>\n",
       "</div>"
      ],
      "text/plain": [
       "   Id       Name  Year Gender  Count\n",
       "0   1       Mary  1880      F   7065\n",
       "1   2       Anna  1880      F   2604\n",
       "2   3       Emma  1880      F   2003\n",
       "3   4  Elizabeth  1880      F   1939\n",
       "4   5     Minnie  1880      F   1746\n",
       "5   6   Margaret  1880      F   1578\n",
       "6   7        Ida  1880      F   1472\n",
       "7   8      Alice  1880      F   1414"
      ]
     },
     "execution_count": 7,
     "metadata": {},
     "output_type": "execute_result"
    }
   ],
   "source": [
    "pd.DataFrame(data[:8])"
   ]
  },
  {
   "cell_type": "markdown",
   "id": "f9033464",
   "metadata": {},
   "source": [
    "3. Отримайте імена стовпців набору даних"
   ]
  },
  {
   "cell_type": "code",
   "execution_count": 8,
   "id": "b390da63",
   "metadata": {},
   "outputs": [
    {
     "data": {
      "text/plain": [
       "Index(['Id', 'Name', 'Year', 'Gender', 'Count'], dtype='object')"
      ]
     },
     "execution_count": 8,
     "metadata": {},
     "output_type": "execute_result"
    }
   ],
   "source": [
    "data.columns"
   ]
  },
  {
   "cell_type": "markdown",
   "id": "99ae2a26",
   "metadata": {},
   "source": [
    "6. Обчисліть кількість унікальних жіночих та чоловічих імен у цілому\n",
    "наборі даних"
   ]
  },
  {
   "cell_type": "code",
   "execution_count": 10,
   "id": "8146c728",
   "metadata": {},
   "outputs": [
    {
     "data": {
      "text/html": [
       "<div>\n",
       "<style scoped>\n",
       "    .dataframe tbody tr th:only-of-type {\n",
       "        vertical-align: middle;\n",
       "    }\n",
       "\n",
       "    .dataframe tbody tr th {\n",
       "        vertical-align: top;\n",
       "    }\n",
       "\n",
       "    .dataframe thead th {\n",
       "        text-align: right;\n",
       "    }\n",
       "</style>\n",
       "<table border=\"1\" class=\"dataframe\">\n",
       "  <thead>\n",
       "    <tr style=\"text-align: right;\">\n",
       "      <th></th>\n",
       "      <th>Name</th>\n",
       "    </tr>\n",
       "    <tr>\n",
       "      <th>Gender</th>\n",
       "      <th></th>\n",
       "    </tr>\n",
       "  </thead>\n",
       "  <tbody>\n",
       "    <tr>\n",
       "      <th>F</th>\n",
       "      <td>64911</td>\n",
       "    </tr>\n",
       "    <tr>\n",
       "      <th>M</th>\n",
       "      <td>39199</td>\n",
       "    </tr>\n",
       "  </tbody>\n",
       "</table>\n",
       "</div>"
      ],
      "text/plain": [
       "         Name\n",
       "Gender       \n",
       "F       64911\n",
       "M       39199"
      ]
     },
     "execution_count": 10,
     "metadata": {},
     "output_type": "execute_result"
    }
   ],
   "source": [
    "pd.DataFrame(data.groupby(\"Gender\")[\"Name\"].nunique())"
   ]
  },
  {
   "cell_type": "markdown",
   "id": "8a333ced",
   "metadata": {},
   "source": [
    "8. Знайдіть найпопулярніше ім’я за результатами одного року (ім’я, для\n",
    "якого Count максимальне)"
   ]
  },
  {
   "cell_type": "code",
   "execution_count": 11,
   "id": "4923ed79",
   "metadata": {},
   "outputs": [
    {
     "name": "stdout",
     "output_type": "stream",
     "text": [
      "The name is 'Linda' in 1947\n"
     ]
    }
   ],
   "source": [
    "res_data = data.sort_values(by=\"Count\", ascending=False).iloc[0]\n",
    "print(f\"The name is '{res_data['Name']}' in {res_data['Year']}\")"
   ]
  },
  {
   "cell_type": "markdown",
   "id": "e317870a",
   "metadata": {},
   "source": [
    "12. Знайдіть найпопулярніше ім’я в році з найбільшою кількістю\n",
    "унікальних імен (тобто у 2008 році)"
   ]
  },
  {
   "cell_type": "code",
   "execution_count": 19,
   "id": "398835e8",
   "metadata": {},
   "outputs": [
    {
     "name": "stdout",
     "output_type": "stream",
     "text": [
      "'Jacob'\n"
     ]
    }
   ],
   "source": [
    "year = 2008\n",
    "res_data = data[data[\"Year\"] == year]\n",
    "res_data = res_data.sort_values(by=\"Count\", ascending=False)\n",
    "res_data = res_data.iloc[0][\"Name\"]\n",
    "print(f\"'{res_data}'\")"
   ]
  },
  {
   "cell_type": "markdown",
   "id": "31aad997",
   "metadata": {},
   "source": [
    "13. Знайдіть рік, коли ім’я “Jacob” було найпопулярнішим серед\n",
    "жіночих імен"
   ]
  },
  {
   "cell_type": "code",
   "execution_count": 37,
   "id": "ae0b752f",
   "metadata": {},
   "outputs": [
    {
     "data": {
      "text/html": [
       "<div>\n",
       "<style scoped>\n",
       "    .dataframe tbody tr th:only-of-type {\n",
       "        vertical-align: middle;\n",
       "    }\n",
       "\n",
       "    .dataframe tbody tr th {\n",
       "        vertical-align: top;\n",
       "    }\n",
       "\n",
       "    .dataframe thead th {\n",
       "        text-align: right;\n",
       "    }\n",
       "</style>\n",
       "<table border=\"1\" class=\"dataframe\">\n",
       "  <thead>\n",
       "    <tr style=\"text-align: right;\">\n",
       "      <th></th>\n",
       "      <th>1455556</th>\n",
       "    </tr>\n",
       "  </thead>\n",
       "  <tbody>\n",
       "    <tr>\n",
       "      <th>Id</th>\n",
       "      <td>1455557</td>\n",
       "    </tr>\n",
       "    <tr>\n",
       "      <th>Name</th>\n",
       "      <td>Jacob</td>\n",
       "    </tr>\n",
       "    <tr>\n",
       "      <th>Year</th>\n",
       "      <td>2004</td>\n",
       "    </tr>\n",
       "    <tr>\n",
       "      <th>Gender</th>\n",
       "      <td>F</td>\n",
       "    </tr>\n",
       "    <tr>\n",
       "      <th>Count</th>\n",
       "      <td>171</td>\n",
       "    </tr>\n",
       "  </tbody>\n",
       "</table>\n",
       "</div>"
      ],
      "text/plain": [
       "        1455556\n",
       "Id      1455557\n",
       "Name      Jacob\n",
       "Year       2004\n",
       "Gender        F\n",
       "Count       171"
      ]
     },
     "execution_count": 37,
     "metadata": {},
     "output_type": "execute_result"
    }
   ],
   "source": [
    "jacob_female = data[(data['Name'] == 'Jacob') & (data['Gender'] == 'F')]\n",
    "most_popular_year = jacob_female.loc[jacob_female['Count'].idxmax()]\n",
    "pd.DataFrame(most_popular_year)"
   ]
  },
  {
   "cell_type": "markdown",
   "id": "129787b3",
   "metadata": {},
   "source": [
    "14. Знайти рік із найбільшою кількістю гендерно нейтральних імен\n",
    "(однакові чоловічі та жіночі імена)"
   ]
  },
  {
   "cell_type": "code",
   "execution_count": 98,
   "id": "3f26c97e",
   "metadata": {},
   "outputs": [
    {
     "data": {
      "text/html": [
       "<div>\n",
       "<style scoped>\n",
       "    .dataframe tbody tr th:only-of-type {\n",
       "        vertical-align: middle;\n",
       "    }\n",
       "\n",
       "    .dataframe tbody tr th {\n",
       "        vertical-align: top;\n",
       "    }\n",
       "\n",
       "    .dataframe thead th {\n",
       "        text-align: right;\n",
       "    }\n",
       "</style>\n",
       "<table border=\"1\" class=\"dataframe\">\n",
       "  <thead>\n",
       "    <tr style=\"text-align: right;\">\n",
       "      <th></th>\n",
       "      <th>Gender_neutral_names</th>\n",
       "    </tr>\n",
       "    <tr>\n",
       "      <th>Year</th>\n",
       "      <th></th>\n",
       "    </tr>\n",
       "  </thead>\n",
       "  <tbody>\n",
       "    <tr>\n",
       "      <th>2008</th>\n",
       "      <td>2557</td>\n",
       "    </tr>\n",
       "  </tbody>\n",
       "</table>\n",
       "</div>"
      ],
      "text/plain": [
       "      Gender_neutral_names\n",
       "Year                      \n",
       "2008                  2557"
      ]
     },
     "execution_count": 98,
     "metadata": {},
     "output_type": "execute_result"
    }
   ],
   "source": [
    "\n",
    "counts = data.groupby(['Year', 'Name']).count()\n",
    "gender_neutral = counts[counts['Count'] == 2]\n",
    "gender_neutral_counts = gender_neutral.groupby(['Year']).count()\n",
    "max_gender_neutral_year = gender_neutral_counts[gender_neutral_counts['Count'] == gender_neutral_counts['Count'].max()]\n",
    "\n",
    "result = max_gender_neutral_year.drop(columns=['Gender', 'Id']).rename(columns={'Count': 'Gender_neutral_names'})\n",
    "pd.DataFrame(result)"
   ]
  },
  {
   "cell_type": "markdown",
   "id": "ad7870e7",
   "metadata": {},
   "source": [
    "15. Знайдіть загальну кількість народжень за рік."
   ]
  },
  {
   "cell_type": "code",
   "execution_count": 101,
   "id": "fa9e838c",
   "metadata": {},
   "outputs": [
    {
     "data": {
      "text/html": [
       "<div>\n",
       "<style scoped>\n",
       "    .dataframe tbody tr th:only-of-type {\n",
       "        vertical-align: middle;\n",
       "    }\n",
       "\n",
       "    .dataframe tbody tr th {\n",
       "        vertical-align: top;\n",
       "    }\n",
       "\n",
       "    .dataframe thead th {\n",
       "        text-align: right;\n",
       "    }\n",
       "</style>\n",
       "<table border=\"1\" class=\"dataframe\">\n",
       "  <thead>\n",
       "    <tr style=\"text-align: right;\">\n",
       "      <th></th>\n",
       "      <th>Count</th>\n",
       "    </tr>\n",
       "    <tr>\n",
       "      <th>Year</th>\n",
       "      <th></th>\n",
       "    </tr>\n",
       "  </thead>\n",
       "  <tbody>\n",
       "    <tr>\n",
       "      <th>1880</th>\n",
       "      <td>201484</td>\n",
       "    </tr>\n",
       "    <tr>\n",
       "      <th>1881</th>\n",
       "      <td>192699</td>\n",
       "    </tr>\n",
       "    <tr>\n",
       "      <th>1882</th>\n",
       "      <td>221538</td>\n",
       "    </tr>\n",
       "    <tr>\n",
       "      <th>1883</th>\n",
       "      <td>216950</td>\n",
       "    </tr>\n",
       "    <tr>\n",
       "      <th>1884</th>\n",
       "      <td>243467</td>\n",
       "    </tr>\n",
       "    <tr>\n",
       "      <th>...</th>\n",
       "      <td>...</td>\n",
       "    </tr>\n",
       "    <tr>\n",
       "      <th>2010</th>\n",
       "      <td>3686589</td>\n",
       "    </tr>\n",
       "    <tr>\n",
       "      <th>2011</th>\n",
       "      <td>3646730</td>\n",
       "    </tr>\n",
       "    <tr>\n",
       "      <th>2012</th>\n",
       "      <td>3643336</td>\n",
       "    </tr>\n",
       "    <tr>\n",
       "      <th>2013</th>\n",
       "      <td>3626802</td>\n",
       "    </tr>\n",
       "    <tr>\n",
       "      <th>2014</th>\n",
       "      <td>3670151</td>\n",
       "    </tr>\n",
       "  </tbody>\n",
       "</table>\n",
       "<p>135 rows × 1 columns</p>\n",
       "</div>"
      ],
      "text/plain": [
       "        Count\n",
       "Year         \n",
       "1880   201484\n",
       "1881   192699\n",
       "1882   221538\n",
       "1883   216950\n",
       "1884   243467\n",
       "...       ...\n",
       "2010  3686589\n",
       "2011  3646730\n",
       "2012  3643336\n",
       "2013  3626802\n",
       "2014  3670151\n",
       "\n",
       "[135 rows x 1 columns]"
      ]
     },
     "execution_count": 101,
     "metadata": {},
     "output_type": "execute_result"
    }
   ],
   "source": [
    "pd.DataFrame(data.groupby('Year')['Count'].sum())"
   ]
  },
  {
   "cell_type": "markdown",
   "id": "283a26f4",
   "metadata": {},
   "source": [
    "16. Знайдіть рік, коли народилося найбільше дітей"
   ]
  },
  {
   "cell_type": "code",
   "execution_count": 103,
   "id": "6e25f522",
   "metadata": {},
   "outputs": [
    {
     "name": "stdout",
     "output_type": "stream",
     "text": [
      "1957\n"
     ]
    }
   ],
   "source": [
    "total_births_per_year = data.groupby('Year')['Count'].sum()\n",
    "year_with_most_births = total_births_per_year.idxmax()\n",
    "\n",
    "print(year_with_most_births)"
   ]
  },
  {
   "cell_type": "markdown",
   "id": "632c5e9e",
   "metadata": {},
   "source": [
    "17. Знайдіть кількість дівчаток та хлопчиків, які народились кожного\n",
    "року"
   ]
  },
  {
   "cell_type": "code",
   "execution_count": 107,
   "id": "c19da464",
   "metadata": {},
   "outputs": [
    {
     "data": {
      "text/html": [
       "<div>\n",
       "<style scoped>\n",
       "    .dataframe tbody tr th:only-of-type {\n",
       "        vertical-align: middle;\n",
       "    }\n",
       "\n",
       "    .dataframe tbody tr th {\n",
       "        vertical-align: top;\n",
       "    }\n",
       "\n",
       "    .dataframe thead th {\n",
       "        text-align: right;\n",
       "    }\n",
       "</style>\n",
       "<table border=\"1\" class=\"dataframe\">\n",
       "  <thead>\n",
       "    <tr style=\"text-align: right;\">\n",
       "      <th></th>\n",
       "      <th></th>\n",
       "      <th>Count</th>\n",
       "    </tr>\n",
       "    <tr>\n",
       "      <th>Year</th>\n",
       "      <th>Gender</th>\n",
       "      <th></th>\n",
       "    </tr>\n",
       "  </thead>\n",
       "  <tbody>\n",
       "    <tr>\n",
       "      <th rowspan=\"2\" valign=\"top\">1880</th>\n",
       "      <th>F</th>\n",
       "      <td>90993</td>\n",
       "    </tr>\n",
       "    <tr>\n",
       "      <th>M</th>\n",
       "      <td>110491</td>\n",
       "    </tr>\n",
       "    <tr>\n",
       "      <th rowspan=\"2\" valign=\"top\">1881</th>\n",
       "      <th>F</th>\n",
       "      <td>91954</td>\n",
       "    </tr>\n",
       "    <tr>\n",
       "      <th>M</th>\n",
       "      <td>100745</td>\n",
       "    </tr>\n",
       "    <tr>\n",
       "      <th>1882</th>\n",
       "      <th>F</th>\n",
       "      <td>107850</td>\n",
       "    </tr>\n",
       "    <tr>\n",
       "      <th>...</th>\n",
       "      <th>...</th>\n",
       "      <td>...</td>\n",
       "    </tr>\n",
       "    <tr>\n",
       "      <th>2012</th>\n",
       "      <th>M</th>\n",
       "      <td>1889414</td>\n",
       "    </tr>\n",
       "    <tr>\n",
       "      <th rowspan=\"2\" valign=\"top\">2013</th>\n",
       "      <th>F</th>\n",
       "      <td>1745339</td>\n",
       "    </tr>\n",
       "    <tr>\n",
       "      <th>M</th>\n",
       "      <td>1881463</td>\n",
       "    </tr>\n",
       "    <tr>\n",
       "      <th rowspan=\"2\" valign=\"top\">2014</th>\n",
       "      <th>F</th>\n",
       "      <td>1768775</td>\n",
       "    </tr>\n",
       "    <tr>\n",
       "      <th>M</th>\n",
       "      <td>1901376</td>\n",
       "    </tr>\n",
       "  </tbody>\n",
       "</table>\n",
       "<p>270 rows × 1 columns</p>\n",
       "</div>"
      ],
      "text/plain": [
       "               Count\n",
       "Year Gender         \n",
       "1880 F         90993\n",
       "     M        110491\n",
       "1881 F         91954\n",
       "     M        100745\n",
       "1882 F        107850\n",
       "...              ...\n",
       "2012 M       1889414\n",
       "2013 F       1745339\n",
       "     M       1881463\n",
       "2014 F       1768775\n",
       "     M       1901376\n",
       "\n",
       "[270 rows x 1 columns]"
      ]
     },
     "execution_count": 107,
     "metadata": {},
     "output_type": "execute_result"
    }
   ],
   "source": [
    "pd.DataFrame(data.groupby(['Year', 'Gender'])['Count'].sum())"
   ]
  },
  {
   "cell_type": "markdown",
   "id": "14d76759",
   "metadata": {},
   "source": [
    "19. Накресліть графік загальної кількості народжень хлопчиків та\n",
    "дівчаток на рік."
   ]
  },
  {
   "cell_type": "code",
   "execution_count": 119,
   "id": "1867194c",
   "metadata": {},
   "outputs": [
    {
     "data": {
      "image/png": "[encoded data removed]",
      "text/plain": [
       "<Figure size 640x480 with 1 Axes>"
      ]
     },
     "metadata": {},
     "output_type": "display_data"
    }
   ],
   "source": [
    "plot = data.groupby([\"Year\", \"Gender\"])[\"Count\"].sum().unstack()\n",
    "plot = plot.plot()\n",
    "plot.set_xlabel(\"Year\")\n",
    "plot.set_ylabel(\"total births per year\")\n",
    "plot.ticklabel_format(style=\"plain\")\n",
    "plot.legend(title=\"Gender\");"
   ]
  },
  {
   "cell_type": "markdown",
   "id": "343a26e4",
   "metadata": {},
   "source": [
    "20. Підрахуйте кількість гендерно-нейтральних імен (однакових для\n",
    "дівчат та хлопців)"
   ]
  },
  {
   "cell_type": "code",
   "execution_count": 124,
   "id": "1e722cf0",
   "metadata": {},
   "outputs": [
    {
     "name": "stdout",
     "output_type": "stream",
     "text": [
      "10221\n"
     ]
    }
   ],
   "source": [
    "gender_counts = data.groupby('Name')['Gender'].nunique()\n",
    "filtered_names = gender_counts[gender_counts == 2]\n",
    "count = filtered_names.count()\n",
    "\n",
    "print(count)"
   ]
  },
  {
   "cell_type": "markdown",
   "id": "213a2bf6",
   "metadata": {},
   "source": [
    "22. Підрахуйте скільки років проводилось спостереження"
   ]
  },
  {
   "cell_type": "code",
   "execution_count": 128,
   "id": "3b8c4723",
   "metadata": {},
   "outputs": [
    {
     "name": "stdout",
     "output_type": "stream",
     "text": [
      "Спостереження проводилось 135 років\n"
     ]
    }
   ],
   "source": [
    "print(f'Спостереження проводилось {data[\"Year\"].nunique()} років')"
   ]
  },
  {
   "cell_type": "markdown",
   "id": "5d9993e8",
   "metadata": {},
   "source": [
    "24. Знайти найпопулярніше серед непопулярних імен (непопулярне\n",
    "ім’я, яким називали дітей найбільшу кількість разів )"
   ]
  },
  {
   "cell_type": "code",
   "execution_count": 17,
   "id": "97d14a9c",
   "metadata": {},
   "outputs": [
    {
     "data": {
      "text/html": [
       "<div>\n",
       "<style scoped>\n",
       "    .dataframe tbody tr th:only-of-type {\n",
       "        vertical-align: middle;\n",
       "    }\n",
       "\n",
       "    .dataframe tbody tr th {\n",
       "        vertical-align: top;\n",
       "    }\n",
       "\n",
       "    .dataframe thead th {\n",
       "        text-align: right;\n",
       "    }\n",
       "</style>\n",
       "<table border=\"1\" class=\"dataframe\">\n",
       "  <thead>\n",
       "    <tr style=\"text-align: right;\">\n",
       "      <th></th>\n",
       "      <th>sum</th>\n",
       "    </tr>\n",
       "    <tr>\n",
       "      <th>Name</th>\n",
       "      <th></th>\n",
       "    </tr>\n",
       "  </thead>\n",
       "  <tbody>\n",
       "    <tr>\n",
       "      <th>Christop</th>\n",
       "      <td>1082</td>\n",
       "    </tr>\n",
       "  </tbody>\n",
       "</table>\n",
       "</div>"
      ],
      "text/plain": [
       "           sum\n",
       "Name          \n",
       "Christop  1082"
      ]
     },
     "execution_count": 17,
     "metadata": {},
     "output_type": "execute_result"
    }
   ],
   "source": [
    "name_counts = data.groupby('Name')['Count'].agg(['count', 'sum'])\n",
    "min_year = name_counts['count'].min()\n",
    "non_popular_names = name_counts[name_counts['count'] == min_year]\n",
    "most_common_non_popular_name = non_popular_names[non_popular_names['sum'] == non_popular_names['sum'].max()].drop(columns=['count'])\n",
    "pd.DataFrame(most_common_non_popular_name)"
   ]
  },
  {
   "cell_type": "markdown",
   "id": "45a7fb54",
   "metadata": {},
   "source": [
    "25. Побудувати графіки розподілення кількості імен John та Mary по\n",
    "роках без залежності до статі."
   ]
  },
  {
   "cell_type": "code",
   "execution_count": 24,
   "id": "7b125bd7",
   "metadata": {},
   "outputs": [
    {
     "data": {
      "text/plain": [
       "<matplotlib.legend.Legend at 0x281b2f27508>"
      ]
     },
     "execution_count": 24,
     "metadata": {},
     "output_type": "execute_result"
    },
    {
     "data": {
      "image/png": "[encoded data removed]",
      "text/plain": [
       "<Figure size 640x480 with 1 Axes>"
      ]
     },
     "metadata": {},
     "output_type": "display_data"
    }
   ],
   "source": [
    "filtered_data = data[(data[\"Name\"] == \"John\") | (data[\"Name\"] == \"Mary\")].groupby([\"Year\", \"Name\"])[\"Count\"].sum().unstack()\n",
    "plot = filtered_data.plot()\n",
    "plot.set_xlabel(\"Year\")\n",
    "plot.ticklabel_format(style=\"plain\")\n",
    "plot.legend(title=\"Name\")"
   ]
  },
  {
   "cell_type": "markdown",
   "id": "545d2a44",
   "metadata": {},
   "source": [
    "26. Побудувати графіки розподілення кількості жіночих імен John та\n",
    "чоловічих імен Mary по роках."
   ]
  },
  {
   "cell_type": "code",
   "execution_count": 11,
   "id": "b64de75f",
   "metadata": {},
   "outputs": [
    {
     "data": {
      "text/plain": [
       "<AxesSubplot:xlabel='Year'>"
      ]
     },
     "execution_count": 11,
     "metadata": {},
     "output_type": "execute_result"
    },
    {
     "data": {
      "image/png": "[encoded data removed]",
      "text/plain": [
       "<Figure size 640x480 with 1 Axes>"
      ]
     },
     "metadata": {},
     "output_type": "display_data"
    }
   ],
   "source": [
    "John = data[(data['Gender'] == 'F') & (data['Name'] == 'John')].groupby(['Year'])['Count'].sum()\n",
    "Mary = data[(data['Gender'] == 'M') & (data['Name'] == 'Mary')].groupby(['Year'])['Count'].sum()\n",
    "\n",
    "John_Mary_data = pd.DataFrame({'John': John, 'Mary': Mary})\n",
    "John_Mary_data = John_Mary_data.fillna(0)\n",
    "John_Mary_data.plot()"
   ]
  },
  {
   "cell_type": "markdown",
   "id": "17dea7a8",
   "metadata": {},
   "source": [
    "27. Знайти найпопулярніші імена в кожному році."
   ]
  },
  {
   "cell_type": "code",
   "execution_count": 35,
   "id": "2b1b5c8e",
   "metadata": {},
   "outputs": [
    {
     "data": {
      "text/html": [
       "<div>\n",
       "<style scoped>\n",
       "    .dataframe tbody tr th:only-of-type {\n",
       "        vertical-align: middle;\n",
       "    }\n",
       "\n",
       "    .dataframe tbody tr th {\n",
       "        vertical-align: top;\n",
       "    }\n",
       "\n",
       "    .dataframe thead th {\n",
       "        text-align: right;\n",
       "    }\n",
       "</style>\n",
       "<table border=\"1\" class=\"dataframe\">\n",
       "  <thead>\n",
       "    <tr style=\"text-align: right;\">\n",
       "      <th></th>\n",
       "      <th>Year</th>\n",
       "      <th>Name</th>\n",
       "      <th>Count</th>\n",
       "    </tr>\n",
       "  </thead>\n",
       "  <tbody>\n",
       "    <tr>\n",
       "      <th>955</th>\n",
       "      <td>1880</td>\n",
       "      <td>John</td>\n",
       "      <td>9701</td>\n",
       "    </tr>\n",
       "    <tr>\n",
       "      <th>2818</th>\n",
       "      <td>1881</td>\n",
       "      <td>John</td>\n",
       "      <td>8795</td>\n",
       "    </tr>\n",
       "    <tr>\n",
       "      <th>4735</th>\n",
       "      <td>1882</td>\n",
       "      <td>John</td>\n",
       "      <td>9597</td>\n",
       "    </tr>\n",
       "    <tr>\n",
       "      <th>6727</th>\n",
       "      <td>1883</td>\n",
       "      <td>John</td>\n",
       "      <td>8934</td>\n",
       "    </tr>\n",
       "    <tr>\n",
       "      <th>8775</th>\n",
       "      <td>1884</td>\n",
       "      <td>John</td>\n",
       "      <td>9428</td>\n",
       "    </tr>\n",
       "    <tr>\n",
       "      <th>...</th>\n",
       "      <td>...</td>\n",
       "      <td>...</td>\n",
       "      <td>...</td>\n",
       "    </tr>\n",
       "    <tr>\n",
       "      <th>1521288</th>\n",
       "      <td>2010</td>\n",
       "      <td>Isabella</td>\n",
       "      <td>22913</td>\n",
       "    </tr>\n",
       "    <tr>\n",
       "      <th>1568092</th>\n",
       "      <td>2011</td>\n",
       "      <td>Sophia</td>\n",
       "      <td>21839</td>\n",
       "    </tr>\n",
       "    <tr>\n",
       "      <th>1599369</th>\n",
       "      <td>2012</td>\n",
       "      <td>Sophia</td>\n",
       "      <td>22285</td>\n",
       "    </tr>\n",
       "    <tr>\n",
       "      <th>1630271</th>\n",
       "      <td>2013</td>\n",
       "      <td>Sophia</td>\n",
       "      <td>21172</td>\n",
       "    </tr>\n",
       "    <tr>\n",
       "      <th>1643629</th>\n",
       "      <td>2014</td>\n",
       "      <td>Emma</td>\n",
       "      <td>20811</td>\n",
       "    </tr>\n",
       "  </tbody>\n",
       "</table>\n",
       "<p>135 rows × 3 columns</p>\n",
       "</div>"
      ],
      "text/plain": [
       "         Year      Name  Count\n",
       "955      1880      John   9701\n",
       "2818     1881      John   8795\n",
       "4735     1882      John   9597\n",
       "6727     1883      John   8934\n",
       "8775     1884      John   9428\n",
       "...       ...       ...    ...\n",
       "1521288  2010  Isabella  22913\n",
       "1568092  2011    Sophia  21839\n",
       "1599369  2012    Sophia  22285\n",
       "1630271  2013    Sophia  21172\n",
       "1643629  2014      Emma  20811\n",
       "\n",
       "[135 rows x 3 columns]"
      ]
     },
     "execution_count": 35,
     "metadata": {},
     "output_type": "execute_result"
    }
   ],
   "source": [
    "popular_names = data.groupby(['Year', 'Name'])['Count'].sum().reset_index()\n",
    "most_popular_names = popular_names.loc[popular_names.groupby('Year')['Count'].idxmax()]\n",
    "\n",
    "pd.DataFrame(most_popular_names)"
   ]
  },
  {
   "cell_type": "code",
   "execution_count": null,
   "id": "676624be",
   "metadata": {},
   "outputs": [],
   "source": []
  }
 ],
 "metadata": {
  "kernelspec": {
   "display_name": "Python 3 (ipykernel)",
   "language": "python",
   "name": "python3"
  },
  "language_info": {
   "codemirror_mode": {
    "name": "ipython",
    "version": 3
   },
   "file_extension": ".py",
   "mimetype": "text/x-python",
   "name": "python",
   "nbconvert_exporter": "python",
   "pygments_lexer": "ipython3",
   "version": "3.7.16"
  }
 },
 "nbformat": 4,
 "nbformat_minor": 5
}
