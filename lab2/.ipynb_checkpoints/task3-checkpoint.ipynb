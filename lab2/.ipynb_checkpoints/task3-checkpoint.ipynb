{
 "cells": [
  {
   "cell_type": "markdown",
   "id": "3990e597",
   "metadata": {},
   "source": [
    "3. Обчислити значення матричного виразу  \n",
    "а) з використанням універсальних функцій бібліотеки NumPy.  \n",
    "b) за допомогою ітеративних конструкцій (з використанням\n",
    "циклів, спискових включень тощо).  \n",
    "с) для обох випадків підрахувати час виконання скрипту та\n",
    "зробити висновок.  \n",
    "Порівняти всі рішення за допомогою функції numpy.allclose().  \n",
    "\n",
    "\\begin{split}\n",
    "        &2A-(A^2 + B)B,\\\\\\\\\n",
    "        де\\; &A = \\begin{pmatrix} 1 & 4 & 2 \\\\ 2 & 1 & -2 \\\\ 0 & 1 & -1 \\end{pmatrix},\\; B = \\begin{pmatrix} 4 & 6 & -2 \\\\ 4 & 10 & 1 \\\\ 2 & 4 & -5 \\end{pmatrix}\n",
    "\\end{split}\n"
   ]
  },
  {
   "cell_type": "code",
   "execution_count": 22,
   "id": "82a2d2a5",
   "metadata": {},
   "outputs": [],
   "source": [
    "import numpy as np\n",
    "import time\n",
    "import operator\n",
    "\n",
    "A = [[1, 4, 2], \n",
    "     [2, 1, -2], \n",
    "     [0, 1, -1]]\n",
    "\n",
    "B = [[4, 6, -2],\n",
    "     [4, 10, 1],\n",
    "     [2, 4, -5]]\n"
   ]
  },
  {
   "cell_type": "markdown",
   "id": "7d0c4ec9",
   "metadata": {},
   "source": [
    "а) з використанням універсальних функцій бібліотеки NumPy."
   ]
  },
  {
   "cell_type": "code",
   "execution_count": 23,
   "id": "11bab347",
   "metadata": {},
   "outputs": [
    {
     "name": "stdout",
     "output_type": "stream",
     "text": [
      "[[ -50  -88  -16]\n",
      " [ -28 -168   -9]\n",
      " [  -8  -14  -32]]\n"
     ]
    }
   ],
   "source": [
    "start_time = time.perf_counter()\n",
    "\n",
    "numpy_A = np.array(A)\n",
    "npumpy_B = np.array(B)\n",
    "numpy_matrix_res = 2 * numpy_A - (np.dot(numpy_A, numpy_A) + npumpy_B) * npumpy_B\n",
    "\n",
    "numpy_time = time.perf_counter() - start_time\n",
    "print(numpy_matrix_res)"
   ]
  },
  {
   "cell_type": "markdown",
   "id": "d1815445",
   "metadata": {},
   "source": [
    "b) за допомогою ітеративних конструкцій (з використанням циклів, спискових включень тощо)."
   ]
  },
  {
   "cell_type": "code",
   "execution_count": 24,
   "id": "c534a4a0",
   "metadata": {},
   "outputs": [
    {
     "name": "stdout",
     "output_type": "stream",
     "text": [
      "[-50, -88, -16]\n",
      "[-28, -168, -9]\n",
      "[-8, -14, -32]\n"
     ]
    }
   ],
   "source": [
    "start_time = time.perf_counter()\n",
    "\n",
    "def matrix_square(matrix):\n",
    "    result = []\n",
    "    for row in matrix:\n",
    "        new_row = []\n",
    "        for col in range(len(row)):\n",
    "            new_row.append(sum(row[k] * matrix[k][col] for k in range(len(row))))\n",
    "        result.append(new_row)\n",
    "    return result\n",
    "\n",
    "A_squared = matrix_square(A)\n",
    "result = []\n",
    "for i in range(len(A)):\n",
    "    temp_row = []\n",
    "    for j in range(len(A[0])):\n",
    "        temp_row.append(2 * A[i][j] - (A_squared[i][j] + B[i][j]) * B[i][j])\n",
    "    result.append(temp_row)\n",
    "\n",
    "for row in result:\n",
    "    print(row)\n",
    "\n",
    "custom_time = time.perf_counter() - start_time"
   ]
  },
  {
   "cell_type": "code",
   "execution_count": 25,
   "id": "8f6c60d8",
   "metadata": {},
   "outputs": [
    {
     "name": "stdout",
     "output_type": "stream",
     "text": [
      "Numpy time: 0.434 ms.\n",
      "Custom time: 0.935 ms.\n"
     ]
    }
   ],
   "source": [
    "print(f\"Numpy time: {round(numpy_time * 1000, 3)} ms.\")\n",
    "print(f\"Custom time: {round(custom_time * 1000, 3)} ms.\")"
   ]
  },
  {
   "cell_type": "code",
   "execution_count": null,
   "id": "00b0079c",
   "metadata": {},
   "outputs": [],
   "source": []
  }
 ],
 "metadata": {
  "kernelspec": {
   "display_name": "Python 3 (ipykernel)",
   "language": "python",
   "name": "python3"
  },
  "language_info": {
   "codemirror_mode": {
    "name": "ipython",
    "version": 3
   },
   "file_extension": ".py",
   "mimetype": "text/x-python",
   "name": "python",
   "nbconvert_exporter": "python",
   "pygments_lexer": "ipython3",
   "version": "3.7.16"
  }
 },
 "nbformat": 4,
 "nbformat_minor": 5
}
