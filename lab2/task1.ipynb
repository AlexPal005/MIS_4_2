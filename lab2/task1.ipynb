{
 "cells": [
  {
   "cell_type": "code",
   "execution_count": 16,
   "id": "fe2cbf67",
   "metadata": {},
   "outputs": [],
   "source": [
    "import numpy as np\n",
    "import time\n",
    "import random\n",
    "import math"
   ]
  },
  {
   "cell_type": "markdown",
   "id": "c1b9afcb",
   "metadata": {},
   "source": [
    "Вправа 1. Вводиться число n. Вивести масив розміру n×n, в\n",
    "якому по діагоналі йдуть числа від 1 до n, а інші числа дорівнюють 0."
   ]
  },
  {
   "cell_type": "code",
   "execution_count": 17,
   "id": "a9e086b0",
   "metadata": {},
   "outputs": [
    {
     "name": "stdout",
     "output_type": "stream",
     "text": [
      "Enter n: 5\n"
     ]
    }
   ],
   "source": [
    "n = int(input(\"Enter n: \"))"
   ]
  },
  {
   "cell_type": "code",
   "execution_count": 18,
   "id": "3f9bd892",
   "metadata": {},
   "outputs": [
    {
     "name": "stdout",
     "output_type": "stream",
     "text": [
      "[[1 0 0 0 0]\n",
      " [0 2 0 0 0]\n",
      " [0 0 3 0 0]\n",
      " [0 0 0 4 0]\n",
      " [0 0 0 0 5]]\n"
     ]
    }
   ],
   "source": [
    "start_time = time.perf_counter()\n",
    "\n",
    "matrix_numpy = np.diag(np.arange(1, n + 1))\n",
    "\n",
    "numpy_time = time.perf_counter() - start_time\n",
    "print(matrix_numpy)"
   ]
  },
  {
   "cell_type": "code",
   "execution_count": 21,
   "id": "6aeebda5",
   "metadata": {},
   "outputs": [
    {
     "name": "stdout",
     "output_type": "stream",
     "text": [
      "[[1 0 0 0 0]\n",
      " [0 2 0 0 0]\n",
      " [0 0 3 0 0]\n",
      " [0 0 0 4 0]\n",
      " [0 0 0 0 5]]\n"
     ]
    }
   ],
   "source": [
    "start_time = time.perf_counter()\n",
    "\n",
    "custom_matrix = [[i + 1 if i == j else 0 for j in range(n)] for i in range(n)]\n",
    "    \n",
    "custom_time = time.perf_counter() - start_time\n",
    "custom_matrix = np.array(custom_matrix)\n",
    "print(matrix_custom)"
   ]
  },
  {
   "cell_type": "code",
   "execution_count": 23,
   "id": "700e6a3b",
   "metadata": {},
   "outputs": [
    {
     "name": "stdout",
     "output_type": "stream",
     "text": [
      "Numpy time: 0.222 ms.\n",
      "Custom time: 0.242 ms.\n"
     ]
    }
   ],
   "source": [
    "print(f\"Numpy time: {round(numpy_time * 1000, 3)} ms.\")\n",
    "print(f\"Custom time: {round(custom_time * 1000, 3)} ms.\")"
   ]
  },
  {
   "cell_type": "markdown",
   "id": "1acb6821",
   "metadata": {},
   "source": [
    "Вправа 2. Вводиться число n. Розставити 1 та 0 у шаховому\n",
    "порядку, починаючи з 1 в матриці розміром n×n, використовуючи\n",
    "слайсінг."
   ]
  },
  {
   "cell_type": "code",
   "execution_count": 2,
   "id": "30d71783",
   "metadata": {},
   "outputs": [
    {
     "name": "stdout",
     "output_type": "stream",
     "text": [
      "Enter n: 5\n"
     ]
    }
   ],
   "source": [
    "n = int(input(\"Enter n: \"))"
   ]
  },
  {
   "cell_type": "code",
   "execution_count": 38,
   "id": "470294f5",
   "metadata": {},
   "outputs": [
    {
     "name": "stdout",
     "output_type": "stream",
     "text": [
      "[[0 1 0 1 0]\n",
      " [1 0 1 0 1]\n",
      " [0 1 0 1 0]\n",
      " [1 0 1 0 1]\n",
      " [0 1 0 1 0]]\n"
     ]
    }
   ],
   "source": [
    "start_time = time.perf_counter()\n",
    "\n",
    "numpy_matrix = np.zeros((n, n), dtype = int)\n",
    "\n",
    "numpy_matrix[1::2,::2] = 1\n",
    "numpy_matrix[::2,1::2] = 1\n",
    "\n",
    "numpy_time = time.perf_counter() - start_time\n",
    "print(numpy_matrix)"
   ]
  },
  {
   "cell_type": "code",
   "execution_count": 39,
   "id": "7abc10a4",
   "metadata": {},
   "outputs": [
    {
     "name": "stdout",
     "output_type": "stream",
     "text": [
      "[[0 1 0 1 0]\n",
      " [1 0 1 0 1]\n",
      " [0 1 0 1 0]\n",
      " [1 0 1 0 1]\n",
      " [0 1 0 1 0]]\n"
     ]
    }
   ],
   "source": [
    "start_time = time.perf_counter()\n",
    "custom_matrix = arr = [[0 if not (i+j)%2 else 1 for j in range(n)] for i in range(n)]\n",
    "        \n",
    "custom_time = time.perf_counter() - start_time\n",
    "custom_matrix = np.array(custom_matrix)\n",
    "print(custom_matrix)"
   ]
  },
  {
   "cell_type": "code",
   "execution_count": 40,
   "id": "ac4c9164",
   "metadata": {},
   "outputs": [
    {
     "name": "stdout",
     "output_type": "stream",
     "text": [
      "Numpy time: 0.146 ms.\n",
      "Custom time: 0.291 ms.\n"
     ]
    }
   ],
   "source": [
    "print(f\"Numpy time: {round(numpy_time * 1000, 3)} ms.\")\n",
    "print(f\"Custom time: {round(custom_time * 1000, 3)} ms.\")"
   ]
  },
  {
   "cell_type": "markdown",
   "id": "1663d1f9",
   "metadata": {},
   "source": [
    "Вправа 4. Вводяться числа n і m. Вивести масив розміру n×m, в\n",
    "якому у першому рядку (рядок з нулевим індексом) йдуть числа від 0\n",
    "до m–1, а всі інші елементи матриці дорівнюють 0."
   ]
  },
  {
   "cell_type": "code",
   "execution_count": 42,
   "id": "40ca403b",
   "metadata": {},
   "outputs": [
    {
     "name": "stdout",
     "output_type": "stream",
     "text": [
      "Enter n: 3\n",
      "Enter m: 4\n"
     ]
    }
   ],
   "source": [
    "n = int(input(\"Enter n: \"))\n",
    "m = int(input(\"Enter m: \"))"
   ]
  },
  {
   "cell_type": "code",
   "execution_count": 49,
   "id": "b485a247",
   "metadata": {},
   "outputs": [
    {
     "name": "stdout",
     "output_type": "stream",
     "text": [
      "[[0 1 2 3]\n",
      " [0 0 0 0]\n",
      " [0 0 0 0]]\n"
     ]
    }
   ],
   "source": [
    "start_time = time.perf_counter()\n",
    "\n",
    "numpy_matrix = np.zeros((n, m), dtype=int)\n",
    "numpy_matrix[0] = np.arange(0, m)\n",
    "\n",
    "numpy_time = time.perf_counter() - start_time\n",
    "print(numpy_matrix)"
   ]
  },
  {
   "cell_type": "code",
   "execution_count": 50,
   "id": "43cef6f9",
   "metadata": {},
   "outputs": [
    {
     "name": "stdout",
     "output_type": "stream",
     "text": [
      "[[0 1 2 3]\n",
      " [0 0 0 0]\n",
      " [0 0 0 0]]\n"
     ]
    }
   ],
   "source": [
    "start_time = time.perf_counter()\n",
    "\n",
    "custom_matrix = [[j if i == 0 else 0 for j in range(m)] for i in range(n)]\n",
    "    \n",
    "custom_time = time.perf_counter() - start_time\n",
    "custom_matrix = np.array(custom_matrix, dtype=int)\n",
    "print(custom_matrix)"
   ]
  },
  {
   "cell_type": "code",
   "execution_count": 51,
   "id": "598bc557",
   "metadata": {},
   "outputs": [
    {
     "name": "stdout",
     "output_type": "stream",
     "text": [
      "Numpy time: 0.118 ms.\n",
      "Custom time: 0.182 ms.\n"
     ]
    }
   ],
   "source": [
    "print(f\"Numpy time: {round(numpy_time * 1000, 3)} ms.\")\n",
    "print(f\"Custom time: {round(custom_time * 1000, 3)} ms.\")"
   ]
  },
  {
   "cell_type": "markdown",
   "id": "1bc3103d",
   "metadata": {},
   "source": [
    "Вправа 7. З клавіатури вводиться масив. Замінити всі нульові\n",
    "елементи на –1."
   ]
  },
  {
   "cell_type": "code",
   "execution_count": 64,
   "id": "633a37e4",
   "metadata": {},
   "outputs": [
    {
     "name": "stdout",
     "output_type": "stream",
     "text": [
      "3 4 0 6 5 0 3 0 4\n"
     ]
    }
   ],
   "source": [
    "list_str = input()\n",
    "array = list(map(int, list_str.split()))\n",
    "array = np.array(array)"
   ]
  },
  {
   "cell_type": "code",
   "execution_count": 84,
   "id": "224e8c87",
   "metadata": {},
   "outputs": [
    {
     "name": "stdout",
     "output_type": "stream",
     "text": [
      "[ 3  4 -1  6  5 -1  3 -1  4]\n"
     ]
    }
   ],
   "source": [
    "start_time = time.perf_counter()\n",
    "\n",
    "numpy_array = np.where(array == 0, -1, array)\n",
    "\n",
    "numpy_time = time.perf_counter() - start_time\n",
    "print(numpy_array)"
   ]
  },
  {
   "cell_type": "code",
   "execution_count": 85,
   "id": "f9b2a5aa",
   "metadata": {},
   "outputs": [
    {
     "name": "stdout",
     "output_type": "stream",
     "text": [
      "[3, 4, -1, 6, 5, -1, 3, -1, 4]\n"
     ]
    }
   ],
   "source": [
    "start_time = time.perf_counter()\n",
    "\n",
    "custom_array = [-1 if x == 0 else x for x in array]\n",
    "    \n",
    "custom_time = time.perf_counter() - start_time\n",
    "print(custom_array)"
   ]
  },
  {
   "cell_type": "code",
   "execution_count": 90,
   "id": "a94348e9",
   "metadata": {},
   "outputs": [
    {
     "name": "stdout",
     "output_type": "stream",
     "text": [
      "Numpy time: 0.156 ms.\n",
      "Custom time: 0.225 ms.\n"
     ]
    }
   ],
   "source": [
    "print(f\"Numpy time: {round(numpy_time * 1000, 3)} ms.\")\n",
    "print(f\"Custom time: {round(custom_time * 1000, 3)} ms.\")"
   ]
  },
  {
   "cell_type": "markdown",
   "id": "aa342ac4",
   "metadata": {},
   "source": [
    "Вправа 8. З клавіатури вводиться масив. Підрахувати в ньому\n",
    "кількість нульових та ненульових елементів.\n"
   ]
  },
  {
   "cell_type": "code",
   "execution_count": 88,
   "id": "72ec88e2",
   "metadata": {},
   "outputs": [
    {
     "name": "stdout",
     "output_type": "stream",
     "text": [
      "3 4 0 9 8 2 4 0 8 4 0\n"
     ]
    }
   ],
   "source": [
    "list_str = input()\n",
    "array = list(map(int, list_str.split()))\n",
    "array = np.array(array)"
   ]
  },
  {
   "cell_type": "code",
   "execution_count": 105,
   "id": "a0bc8e6c",
   "metadata": {},
   "outputs": [
    {
     "name": "stdout",
     "output_type": "stream",
     "text": [
      "Нулів:3\n",
      "Не нулів:8\n"
     ]
    }
   ],
   "source": [
    "start_time = time.perf_counter()\n",
    "\n",
    "bool_arr = (array != 0)\n",
    "custom_not_zero_amount = np.count_nonzero(bool_arr)\n",
    "custom_zero_amount = len(array) - custom_not_zero_amount\n",
    "\n",
    "numpy_time = time.perf_counter() - start_time\n",
    "print(\"Нулів:\" + str(custom_zero_amount))\n",
    "print(\"Не нулів:\" + str(custom_not_zero_amount))"
   ]
  },
  {
   "cell_type": "code",
   "execution_count": 106,
   "id": "84083dc3",
   "metadata": {},
   "outputs": [
    {
     "name": "stdout",
     "output_type": "stream",
     "text": [
      "Нулів:3\n",
      "Не нулів:8\n"
     ]
    }
   ],
   "source": [
    "start_time = time.perf_counter()\n",
    "\n",
    "custom_not_zero_amount = len([item for item in array if item != 0])\n",
    "custom_zero_amount = len([item for item in array if item == 0])\n",
    "    \n",
    "custom_time = time.perf_counter() - start_time\n",
    "print(\"Нулів:\" + str(custom_zero_amount))\n",
    "print(\"Не нулів:\" + str(custom_not_zero_amount))"
   ]
  },
  {
   "cell_type": "code",
   "execution_count": 107,
   "id": "4edc8a13",
   "metadata": {},
   "outputs": [
    {
     "name": "stdout",
     "output_type": "stream",
     "text": [
      "Numpy time: 0.194 ms.\n",
      "Custom time: 0.212 ms.\n"
     ]
    }
   ],
   "source": [
    "print(f\"Numpy time: {round(numpy_time * 1000, 3)} ms.\")\n",
    "print(f\"Custom time: {round(custom_time * 1000, 3)} ms.\")"
   ]
  },
  {
   "cell_type": "markdown",
   "id": "963418ca",
   "metadata": {},
   "source": [
    "Вправа 12. Створити масив одиниць розміром n×n та створити в\n",
    "ньому «рамку», що утворюється з 0."
   ]
  },
  {
   "cell_type": "code",
   "execution_count": 108,
   "id": "e6774485",
   "metadata": {},
   "outputs": [
    {
     "name": "stdout",
     "output_type": "stream",
     "text": [
      "Enter n: 4\n"
     ]
    }
   ],
   "source": [
    "n = int(input(\"Enter n: \"))"
   ]
  },
  {
   "cell_type": "code",
   "execution_count": 121,
   "id": "b1ef8f42",
   "metadata": {},
   "outputs": [
    {
     "name": "stdout",
     "output_type": "stream",
     "text": [
      "[[0 0 0 0]\n",
      " [0 1 1 0]\n",
      " [0 1 1 0]\n",
      " [0 0 0 0]]\n"
     ]
    }
   ],
   "source": [
    "start_time = time.perf_counter()\n",
    "\n",
    "numpy_matrix = np.ones((n, n), dtype=int)\n",
    "numpy_matrix[(0, n - 1), ...] = 0\n",
    "numpy_matrix[..., (0, n - 1)] = 0\n",
    "\n",
    "numpy_time = time.perf_counter() - start_time\n",
    "print(numpy_matrix)"
   ]
  },
  {
   "cell_type": "code",
   "execution_count": 122,
   "id": "323088c1",
   "metadata": {},
   "outputs": [
    {
     "name": "stdout",
     "output_type": "stream",
     "text": [
      "[[0 0 0 0]\n",
      " [0 1 1 0]\n",
      " [0 1 1 0]\n",
      " [0 0 0 0]]\n"
     ]
    }
   ],
   "source": [
    "start_time = time.perf_counter()\n",
    "\n",
    "custom_matrix = [[1 if (0 < i < n - 1 and 0 < j < n - 1) else 0 for j in range(n)] for i in range(n)]\n",
    "\n",
    "custom_time = time.perf_counter() - start_time\n",
    "custom_matrix = np.array(custom_matrix, dtype=int)\n",
    "print(custom_matrix)"
   ]
  },
  {
   "cell_type": "code",
   "execution_count": 123,
   "id": "d249c61b",
   "metadata": {},
   "outputs": [
    {
     "name": "stdout",
     "output_type": "stream",
     "text": [
      "Numpy time: 0.247 ms.\n",
      "Custom time: 0.125 ms.\n"
     ]
    }
   ],
   "source": [
    "print(f\"Numpy time: {round(numpy_time * 1000, 3)} ms.\")\n",
    "print(f\"Custom time: {round(custom_time * 1000, 3)} ms.\")"
   ]
  },
  {
   "cell_type": "markdown",
   "id": "ba6497cb",
   "metadata": {},
   "source": [
    "Вправа 15. Заповнити парні стовпчикі матриці розміром n×n\n",
    "одиницями, а непарні – нулями."
   ]
  },
  {
   "cell_type": "code",
   "execution_count": 147,
   "id": "8f3bbe3d",
   "metadata": {},
   "outputs": [
    {
     "name": "stdout",
     "output_type": "stream",
     "text": [
      "Enter n: 5\n"
     ]
    }
   ],
   "source": [
    "n = int(input(\"Enter n: \"))"
   ]
  },
  {
   "cell_type": "code",
   "execution_count": 157,
   "id": "7ad1a43d",
   "metadata": {},
   "outputs": [
    {
     "name": "stdout",
     "output_type": "stream",
     "text": [
      "[[0 1 0 1 0]\n",
      " [0 1 0 1 0]\n",
      " [0 1 0 1 0]\n",
      " [0 1 0 1 0]\n",
      " [0 1 0 1 0]]\n"
     ]
    }
   ],
   "source": [
    "start_time = time.perf_counter()\n",
    "\n",
    "numpy_array =  np.zeros((n, n), dtype=int)\n",
    "numpy_array[:, 1::2] = 1\n",
    "\n",
    "numpy_time = time.perf_counter() - start_time\n",
    "print(numpy_array)"
   ]
  },
  {
   "cell_type": "code",
   "execution_count": 158,
   "id": "6c495dd9",
   "metadata": {},
   "outputs": [
    {
     "name": "stdout",
     "output_type": "stream",
     "text": [
      "[[0 1 0 1 0]\n",
      " [0 1 0 1 0]\n",
      " [0 1 0 1 0]\n",
      " [0 1 0 1 0]\n",
      " [0 1 0 1 0]]\n"
     ]
    }
   ],
   "source": [
    "start_time = time.perf_counter()\n",
    "\n",
    "custom_matrix = [[1 if j%2 else 0 for j in range(n)] for i in range(n)]\n",
    "    \n",
    "custom_time = time.perf_counter() - start_time\n",
    "custom_matrix = np.array(custom_matrix, dtype=int)\n",
    "print(custom_matrix)"
   ]
  },
  {
   "cell_type": "code",
   "execution_count": 159,
   "id": "33eeae6c",
   "metadata": {},
   "outputs": [
    {
     "name": "stdout",
     "output_type": "stream",
     "text": [
      "Numpy time: 0.105 ms.\n",
      "Custom time: 0.26 ms.\n"
     ]
    }
   ],
   "source": [
    "print(f\"Numpy time: {round(numpy_time * 1000, 3)} ms.\")\n",
    "print(f\"Custom time: {round(custom_time * 1000, 3)} ms.\")"
   ]
  },
  {
   "cell_type": "markdown",
   "id": "721753ce",
   "metadata": {},
   "source": [
    "Вправа 16. Заповнити вектор значеннями від 0 до n. Всі значення,\n",
    "що більші за n/4 та менші за 3n/4 замінити нулями."
   ]
  },
  {
   "cell_type": "code",
   "execution_count": 161,
   "id": "9bb51d0f",
   "metadata": {},
   "outputs": [
    {
     "name": "stdout",
     "output_type": "stream",
     "text": [
      "Enter n: 10\n"
     ]
    }
   ],
   "source": [
    "n = int(input(\"Enter n: \"))"
   ]
  },
  {
   "cell_type": "code",
   "execution_count": 165,
   "id": "b960238a",
   "metadata": {},
   "outputs": [
    {
     "name": "stdout",
     "output_type": "stream",
     "text": [
      "[ 0  1  2  0  0  0  0  0  8  9 10]\n"
     ]
    }
   ],
   "source": [
    "start_time = time.perf_counter()\n",
    "\n",
    "numpy_array = np.arange(n + 1, dtype=int)\n",
    "numpy_array[np.logical_and(n / 4 < numpy_array, numpy_array < 3 * n / 4)] = 0\n",
    "\n",
    "numpy_time = time.perf_counter() - start_time\n",
    "print(numpy_array)"
   ]
  },
  {
   "cell_type": "code",
   "execution_count": 166,
   "id": "0242048c",
   "metadata": {},
   "outputs": [
    {
     "name": "stdout",
     "output_type": "stream",
     "text": [
      "[0, 1, 2, 0, 0, 0, 0, 0, 8, 9, 10]\n"
     ]
    }
   ],
   "source": [
    "start_time = time.perf_counter()\n",
    "\n",
    "custom_array = [i for i in range(n + 1)]\n",
    "custom_array = [0 if (n / 4 < i < 3 * n / 4) else i for i in custom_array]\n",
    "\n",
    "custom_time = time.perf_counter() - start_time\n",
    "custom_res = np.array(custom_array, dtype=int)\n",
    "print(custom_array)"
   ]
  },
  {
   "cell_type": "code",
   "execution_count": 167,
   "id": "05bbcb4a",
   "metadata": {},
   "outputs": [
    {
     "name": "stdout",
     "output_type": "stream",
     "text": [
      "Numpy time: 0.171 ms.\n",
      "Custom time: 0.201 ms.\n"
     ]
    }
   ],
   "source": [
    "print(f\"Numpy time: {round(numpy_time * 1000, 3)} ms.\")\n",
    "print(f\"Custom time: {round(custom_time * 1000, 3)} ms.\")"
   ]
  },
  {
   "cell_type": "markdown",
   "id": "2e4a0547",
   "metadata": {},
   "source": [
    "Вправа 20. Згенерувати вектор із n випадкових елементів, що\n",
    "лежать в інтервалі (0,1). Замінити максимальний елемент на 0."
   ]
  },
  {
   "cell_type": "code",
   "execution_count": 168,
   "id": "4dcdeb1e",
   "metadata": {},
   "outputs": [
    {
     "name": "stdout",
     "output_type": "stream",
     "text": [
      "Enter n: 5\n"
     ]
    }
   ],
   "source": [
    "n = int(input(\"Enter n: \"))"
   ]
  },
  {
   "cell_type": "code",
   "execution_count": 175,
   "id": "a01468bd",
   "metadata": {},
   "outputs": [
    {
     "name": "stdout",
     "output_type": "stream",
     "text": [
      "Початковий вектор: [0.56254106 0.03513665 0.63960303 0.15382975 0.05893358]\n",
      "Змінений вектор: [0.56254106 0.03513665 0.         0.15382975 0.05893358]\n",
      "[0.56254106 0.03513665 0.63960303 0.15382975 0.05893358]\n"
     ]
    }
   ],
   "source": [
    "start_time = time.perf_counter()\n",
    "\n",
    "numpy_vector = np.random.random(n)\n",
    "numpy_vector_changed = np.copy(numpy_vector)\n",
    "max_index = np.argmax(numpy_vector)\n",
    "numpy_vector_changed[max_index] = 0\n",
    "\n",
    "numpy_time = time.perf_counter() - start_time\n",
    "print(\"Початковий вектор: \" + str(numpy_vector))\n",
    "print(\"Змінений вектор: \" + str(numpy_vector_changed))\n",
    "print(numpy_vector)"
   ]
  },
  {
   "cell_type": "code",
   "execution_count": 176,
   "id": "6ab0a741",
   "metadata": {},
   "outputs": [
    {
     "name": "stdout",
     "output_type": "stream",
     "text": [
      "Початковий вектор: [0.12791987244231606, 0.14692387165647702, 0.2988207580871509, 0.47809056084509804, 0.5210857807684772]\n",
      "Змінений вектор: [0.12791987244231606, 0.14692387165647702, 0.2988207580871509, 0.47809056084509804, 0]\n"
     ]
    }
   ],
   "source": [
    "start_time = time.perf_counter()\n",
    "\n",
    "castom_vector = [random.random() for _ in range(n)]\n",
    "castom_vector_changed = castom_vector.copy()\n",
    "\n",
    "max_value = max(castom_vector_changed)\n",
    "max_index = castom_vector_changed.index(max_value)\n",
    "castom_vector_changed[max_index] = 0\n",
    "\n",
    "custom_time = time.perf_counter() - start_time\n",
    "custom_res = np.array(custom_array, dtype=int)\n",
    "print(\"Початковий вектор: \" + str(castom_vector))\n",
    "print(\"Змінений вектор: \" + str(castom_vector_changed))"
   ]
  },
  {
   "cell_type": "code",
   "execution_count": 177,
   "id": "986ff8bc",
   "metadata": {},
   "outputs": [
    {
     "name": "stdout",
     "output_type": "stream",
     "text": [
      "Numpy time: 0.307 ms.\n",
      "Custom time: 0.314 ms.\n"
     ]
    }
   ],
   "source": [
    "print(f\"Numpy time: {round(numpy_time * 1000, 3)} ms.\")\n",
    "print(f\"Custom time: {round(custom_time * 1000, 3)} ms.\")"
   ]
  },
  {
   "cell_type": "code",
   "execution_count": null,
   "id": "a09ec72b",
   "metadata": {},
   "outputs": [],
   "source": []
  }
 ],
 "metadata": {
  "kernelspec": {
   "display_name": "Python 3 (ipykernel)",
   "language": "python",
   "name": "python3"
  },
  "language_info": {
   "codemirror_mode": {
    "name": "ipython",
    "version": 3
   },
   "file_extension": ".py",
   "mimetype": "text/x-python",
   "name": "python",
   "nbconvert_exporter": "python",
   "pygments_lexer": "ipython3",
   "version": "3.7.16"
  }
 },
 "nbformat": 4,
 "nbformat_minor": 5
}
