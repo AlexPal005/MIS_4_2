{
 "cells": [
  {
   "cell_type": "markdown",
   "id": "8a41553f",
   "metadata": {},
   "source": [
    "2. Розв’язати систему алгебраїчних рівнянь за допомогою\n",
    "формул Крамера і виконати перевірку за допомогою:  \n",
    "a) матричного множення;  \n",
    "b) оберненої матриці;  \n",
    "c) функції numpy.linalg.solve().  \n",
    "Порівняти всі рішення за допомогою функції numpy.allclose().\n",
    "\\begin{equation}\n",
    "    \\begin{cases}\n",
    "      x_1 + 2x_2 + x_3 + x_4 = 8\\\\\n",
    "      2x_1 + x_2 + x_3 + x_4 = 5\\\\\n",
    "      x_1 - x_2 + 2x_3 + x_4 = -1\\\\\n",
    "      x_1 + x_2 - x_3 + 3x_4 = 10\n",
    "    \\end{cases}\\,\n",
    "\\end{equation}\n"
   ]
  },
  {
   "cell_type": "markdown",
   "id": "f8760682",
   "metadata": {},
   "source": [
    "Метод Крамера: "
   ]
  },
  {
   "cell_type": "code",
   "execution_count": 22,
   "id": "aa3dc160",
   "metadata": {},
   "outputs": [
    {
     "name": "stdout",
     "output_type": "stream",
     "text": [
      "[-0.05263158  2.94736842 -0.15789474  2.31578947]\n"
     ]
    }
   ],
   "source": [
    "import numpy as np\n",
    "\n",
    "A = [[1, 2, 1, 1], \n",
    "     [2, 1, 1, 1], \n",
    "     [1, -1, 2,1], \n",
    "     [1, 1, -1, 3]]\n",
    "A = np.array(A)\n",
    "\n",
    "B = [8, 5, -1, 10]\n",
    "B = np.array(B)\n",
    "\n",
    "det = np.linalg.det(A)\n",
    "n = len(A)\n",
    "\n",
    "kramer = np.ndarray(n, dtype=np.float64)\n",
    "for i in range(n):\n",
    "    K = A.copy()\n",
    "    K[:, i] = B\n",
    "    kramer[i] = np.linalg.det(K) / det\n",
    "\n",
    "print(kramer)"
   ]
  },
  {
   "cell_type": "markdown",
   "id": "ee5b2e0f",
   "metadata": {},
   "source": [
    "a) матричне множення"
   ]
  },
  {
   "cell_type": "code",
   "execution_count": 23,
   "id": "ef3a6df6",
   "metadata": {},
   "outputs": [
    {
     "name": "stdout",
     "output_type": "stream",
     "text": [
      "[ 8.  5. -1. 10.]\n",
      "Результати однакові?: True\n"
     ]
    }
   ],
   "source": [
    "matmul = np.matmul(A, kramer_res)\n",
    "\n",
    "print(matmul)\n",
    "print(f\"Результати однакові?: {np.allclose(B, matmul_test)}\")"
   ]
  },
  {
   "cell_type": "markdown",
   "id": "8efdaa51",
   "metadata": {},
   "source": [
    "b) обернена матриця"
   ]
  },
  {
   "cell_type": "code",
   "execution_count": 24,
   "id": "5e06105e",
   "metadata": {},
   "outputs": [
    {
     "name": "stdout",
     "output_type": "stream",
     "text": [
      "[-0.05263158  2.94736842 -0.15789474  2.31578947]\n",
      "Результати однакові?: True\n"
     ]
    }
   ],
   "source": [
    "inversion = np.matmul(np.linalg.inv(A), B)\n",
    "\n",
    "print(inversion)\n",
    "print(f\"Результати однакові?: {np.allclose(kramer, inversion)}\")"
   ]
  },
  {
   "cell_type": "markdown",
   "id": "eadd96be",
   "metadata": {},
   "source": [
    "c) функції numpy.linalg.solve()"
   ]
  },
  {
   "cell_type": "code",
   "execution_count": 25,
   "id": "d092c705",
   "metadata": {},
   "outputs": [
    {
     "name": "stdout",
     "output_type": "stream",
     "text": [
      "[-0.05263158  2.94736842 -0.15789474  2.31578947]\n",
      "Результати однакові?: True\n"
     ]
    }
   ],
   "source": [
    "linalg = np.linalg.solve(A, B)\n",
    "\n",
    "print(linalg)\n",
    "print(f\"Результати однакові?: {np.allclose(kramer, linalg)}\")"
   ]
  },
  {
   "cell_type": "code",
   "execution_count": null,
   "id": "bb797667",
   "metadata": {},
   "outputs": [],
   "source": []
  }
 ],
 "metadata": {
  "kernelspec": {
   "display_name": "Python 3 (ipykernel)",
   "language": "python",
   "name": "python3"
  },
  "language_info": {
   "codemirror_mode": {
    "name": "ipython",
    "version": 3
   },
   "file_extension": ".py",
   "mimetype": "text/x-python",
   "name": "python",
   "nbconvert_exporter": "python",
   "pygments_lexer": "ipython3",
   "version": "3.7.16"
  }
 },
 "nbformat": 4,
 "nbformat_minor": 5
}
