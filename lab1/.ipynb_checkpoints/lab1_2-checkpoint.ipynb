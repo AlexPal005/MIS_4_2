{
 "cells": [
  {
   "cell_type": "code",
   "execution_count": 15,
   "id": "2389d9ae",
   "metadata": {},
   "outputs": [
    {
     "name": "stdout",
     "output_type": "stream",
     "text": [
      "3 12 15 7 11 35 18\n",
      "[35, 18, 15, 12]\n"
     ]
    }
   ],
   "source": [
    "def is_prime(n):\n",
    "    d = 2\n",
    "    while d * d <= n and n % d != 0:\n",
    "        d += 1\n",
    "    return d * d > n\n",
    "\n",
    "def del_primes(list):\n",
    "    res = []\n",
    "    i = 0\n",
    "    while i < len(list):\n",
    "        if  not is_prime(list[i]):\n",
    "            res.append(list[i])\n",
    "            del list[i]\n",
    "        else:\n",
    "            i += 1\n",
    "    return res\n",
    "\n",
    "def task_9():\n",
    "    list_string = input()\n",
    "    try:\n",
    "        list_numbers = list(map(int, list_string.split()))\n",
    "        list_numbers = del_primes(list_numbers)\n",
    "        list_numbers.sort(reverse=True)\n",
    "        return list_numbers\n",
    "    except ValueError:\n",
    "        print(\"'Error'\")\n",
    "        return\n",
    "\n",
    "print(task_9())\n",
    "    "
   ]
  },
  {
   "cell_type": "code",
   "execution_count": null,
   "id": "a0371f14",
   "metadata": {},
   "outputs": [],
   "source": []
  },
  {
   "cell_type": "code",
   "execution_count": null,
   "id": "033ce0f2",
   "metadata": {},
   "outputs": [],
   "source": []
  }
 ],
 "metadata": {
  "kernelspec": {
   "display_name": "Python 3 (ipykernel)",
   "language": "python",
   "name": "python3"
  },
  "language_info": {
   "codemirror_mode": {
    "name": "ipython",
    "version": 3
   },
   "file_extension": ".py",
   "mimetype": "text/x-python",
   "name": "python",
   "nbconvert_exporter": "python",
   "pygments_lexer": "ipython3",
   "version": "3.7.16"
  }
 },
 "nbformat": 4,
 "nbformat_minor": 5
}
